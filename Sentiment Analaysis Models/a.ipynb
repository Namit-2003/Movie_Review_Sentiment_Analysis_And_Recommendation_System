{
 "cells": [
  {
   "cell_type": "markdown",
   "metadata": {},
   "source": [
    "\n",
    "To recommend movies to a user using the trained SVD model, you can follow these steps:\n",
    "\n",
    "1. Train the SVD model on the entire dataset (not just the training set).\n",
    "2. Get the list of movies that user 1 has not rated.\n",
    "3. Predict ratings for the unrated movies for user 1.\n",
    "4. Recommend the top-rated movies to user 1.\n"
   ]
  },
  {
   "cell_type": "code",
   "execution_count": null,
   "metadata": {},
   "outputs": [],
   "source": [
    "import pandas as pd\n",
    "from surprise import Reader, Dataset, SVD\n",
    "from surprise.model_selection import train_test_split\n",
    "from surprise import accuracy\n",
    "\n",
    "# Load ratings data from a CSV file\n",
    "ratings = pd.read_csv('../input/ratings_small.csv')\n",
    "\n",
    "# Define the Reader and Dataset\n",
    "reader = Reader()\n",
    "data = Dataset.load_from_df(ratings[['userId', 'movieId', 'rating']], reader)\n",
    "\n",
    "# Initialize the SVD model\n",
    "svd = SVD()\n",
    "\n",
    "# Train the model on the entire dataset\n",
    "trainset = data.build_full_trainset()\n",
    "svd.fit(trainset)\n",
    "\n",
    "# Get the list of movies that user 1 has not rated\n",
    "user_id = 1\n",
    "rated_movies = ratings[ratings['userId'] == user_id]['movieId']\n",
    "all_movies = ratings['movieId'].unique()\n",
    "unrated_movies = list(set(all_movies) - set(rated_movies))\n",
    "\n",
    "# Predict ratings for unrated movies for user 1\n",
    "predictions = [svd.predict(user_id, movie_id) for movie_id in unrated_movies]\n",
    "\n",
    "# Get the top N recommendations based on predicted ratings\n",
    "N = 10\n",
    "top_recommendations = sorted(predictions, key=lambda x: x.est, reverse=True)[:N]\n",
    "\n",
    "# Display the top recommendations\n",
    "print(f\"Top {N} movie recommendations for user {user_id}:\")\n",
    "for recommendation in top_recommendations:\n",
    "    movie_id = recommendation.iid\n",
    "    predicted_rating = recommendation.est\n",
    "    print(f\"Movie {movie_id}: Predicted Rating - {predicted_rating}\")\n"
   ]
  },
  {
   "cell_type": "code",
   "execution_count": null,
   "metadata": {},
   "outputs": [],
   "source": []
  }
 ],
 "metadata": {
  "language_info": {
   "name": "python"
  }
 },
 "nbformat": 4,
 "nbformat_minor": 2
}
