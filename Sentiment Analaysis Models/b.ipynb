{
 "cells": [
  {
   "cell_type": "code",
   "execution_count": 2,
   "metadata": {},
   "outputs": [
    {
     "name": "stdout",
     "output_type": "stream",
     "text": [
      "WARNING:tensorflow:From C:\\Users\\hp\\AppData\\Roaming\\Python\\Python311\\site-packages\\keras\\src\\losses.py:2976: The name tf.losses.sparse_softmax_cross_entropy is deprecated. Please use tf.compat.v1.losses.sparse_softmax_cross_entropy instead.\n",
      "\n"
     ]
    }
   ],
   "source": [
    "from keras.datasets import imdb\n",
    "from keras.models import Model\n",
    "from keras.preprocessing.sequence import pad_sequences\n",
    "from keras.layers import Input , Embedding , SimpleRNN , Dense , LSTM , Bidirectional\n",
    "\n",
    "max_features = 25000 # Only top 25000 unique words or features\n",
    "maxlen = 250 # Consider only the the first 250 words for each movie review"
   ]
  },
  {
   "cell_type": "code",
   "execution_count": 3,
   "metadata": {},
   "outputs": [
    {
     "name": "stdout",
     "output_type": "stream",
     "text": [
      "25000 Training Sequences\n",
      "25000 Validation Sequences\n"
     ]
    }
   ],
   "source": [
    "# Loading and Splitting the data\n",
    "(x_train,y_train) , (x_val,y_val) = imdb.load_data(num_words=max_features)\n",
    "\n",
    "print(len(x_train), \"Training Sequences\")\n",
    "print(len(x_val), \"Validation Sequences\")\n",
    "\n",
    "# Applying post padding on the data\n",
    "# Truncate the sequences from the end longer than 250 words\n",
    "# Apply Zero padding to the end words shorter than 250 words\n",
    "x_train = pad_sequences(x_train,padding='post',truncating='post',maxlen=maxlen)\n",
    "x_val = pad_sequences(x_val,padding='post',truncating='post',maxlen=maxlen)\n"
   ]
  },
  {
   "cell_type": "code",
   "execution_count": 10,
   "metadata": {},
   "outputs": [
    {
     "name": "stdout",
     "output_type": "stream",
     "text": [
      "WARNING:tensorflow:From C:\\Users\\hp\\AppData\\Roaming\\Python\\Python311\\site-packages\\keras\\src\\backend.py:1398: The name tf.executing_eagerly_outside_functions is deprecated. Please use tf.compat.v1.executing_eagerly_outside_functions instead.\n",
      "\n",
      "Model: \"model\"\n",
      "_________________________________________________________________\n",
      " Layer (type)                Output Shape              Param #   \n",
      "=================================================================\n",
      " input_1 (InputLayer)        [(None, None)]            0         \n",
      "                                                                 \n",
      " embedding (Embedding)       (None, None, 128)         3200000   \n",
      "                                                                 \n",
      " bidirectional (Bidirection  (None, None, 128)         98816     \n",
      " al)                                                             \n",
      "                                                                 \n",
      " bidirectional_1 (Bidirecti  (None, None, 128)         98816     \n",
      " onal)                                                           \n",
      "                                                                 \n",
      " bidirectional_2 (Bidirecti  (None, 128)               98816     \n",
      " onal)                                                           \n",
      "                                                                 \n",
      " dense (Dense)               (None, 5)                 645       \n",
      "                                                                 \n",
      "=================================================================\n",
      "Total params: 3497093 (13.34 MB)\n",
      "Trainable params: 3497093 (13.34 MB)\n",
      "Non-trainable params: 0 (0.00 Byte)\n",
      "_________________________________________________________________\n"
     ]
    }
   ],
   "source": [
    "inputs = Input(shape=(None,),dtype=\"int32\")\n",
    "\n",
    "# Embedding layer , Embed each integer to 128-dimensional vector\n",
    "x = Embedding(max_features,128)(inputs)\n",
    "\n",
    "# Adding 3 SimpleRNN layer\n",
    "x = Bidirectional(LSTM(64,return_sequences=True))(x)\n",
    "x = Bidirectional(LSTM(64,return_sequences=True))(x)\n",
    "x = Bidirectional(LSTM(64))(x)\n",
    "\n",
    "# Adding a classifier\n",
    "outputs = Dense(5,activation='softmax')(x)\n",
    "model = Model(inputs,outputs)\n",
    "\n",
    "model.summary()"
   ]
  },
  {
   "cell_type": "code",
   "execution_count": 12,
   "metadata": {},
   "outputs": [
    {
     "name": "stdout",
     "output_type": "stream",
     "text": [
      "1/1 [==============================] - 2s 2s/step\n",
      "Binary_rating \n",
      "[[0.19746864 0.20052773 0.19793393 0.20323306 0.20083661]\n",
      " [0.1981381  0.2009239  0.19791187 0.20280226 0.2002239 ]\n",
      " [0.19713752 0.20111054 0.19744687 0.20397504 0.20033005]\n",
      " [0.20098244 0.19926758 0.19874884 0.20063293 0.20036823]\n",
      " [0.19769393 0.20035693 0.19719982 0.20474537 0.20000385]\n",
      " [0.19707067 0.19997805 0.19869012 0.203808   0.20045318]\n",
      " [0.19687994 0.20017053 0.19806956 0.2036991  0.20118093]\n",
      " [0.19885162 0.20045727 0.20015621 0.19885713 0.20167775]\n",
      " [0.19746265 0.20081837 0.19789597 0.20288205 0.20094095]\n",
      " [0.19691825 0.20017138 0.19884329 0.20396069 0.20010637]]\n",
      "Rating\n",
      "[4 4 4 1 4 4 4 5 4 4]\n"
     ]
    }
   ],
   "source": [
    "import numpy as np\n",
    "x_pract = x_train[:10]\n",
    "predicted_binary_ratings = model.predict(x_pract)\n",
    "\n",
    "print(\"Binary_rating \")\n",
    "print(predicted_binary_ratings)\n",
    "# Convert binary predictions to integer values between 1 and 5\n",
    "predicted_ratings = np.argmax(predicted_binary_ratings, axis=1) + 1\n",
    "\n",
    "# Print the first few predicted ratings\n",
    "print(\"Rating\")\n",
    "print(predicted_ratings)"
   ]
  },
  {
   "cell_type": "code",
   "execution_count": 11,
   "metadata": {},
   "outputs": [
    {
     "name": "stdout",
     "output_type": "stream",
     "text": [
      "[[   1   14   22 ...    0    0    0]\n",
      " [   1  194 1153 ...    0    0    0]\n",
      " [   1   14   47 ...    0    0    0]\n",
      " ...\n",
      " [   1   11    6 ...    0    0    0]\n",
      " [   1 1446 7079 ...    0    0    0]\n",
      " [   1   17    6 ...    0    0    0]]\n"
     ]
    }
   ],
   "source": [
    "print(x_train)"
   ]
  },
  {
   "cell_type": "code",
   "execution_count": 12,
   "metadata": {},
   "outputs": [
    {
     "name": "stdout",
     "output_type": "stream",
     "text": [
      "[[   1   14   22 ...    0    0    0]\n",
      " [   1  194 1153 ...    0    0    0]\n",
      " [   1   14   47 ...    0    0    0]\n",
      " ...\n",
      " [   1   11    6 ...    0    0    0]\n",
      " [   1 1446 7079 ...    0    0    0]\n",
      " [   1   17    6 ...    0    0    0]]\n"
     ]
    }
   ],
   "source": [
    "print(x_train)"
   ]
  },
  {
   "cell_type": "code",
   "execution_count": 1,
   "metadata": {},
   "outputs": [
    {
     "ename": "NameError",
     "evalue": "name 'x_train' is not defined",
     "output_type": "error",
     "traceback": [
      "\u001b[1;31m---------------------------------------------------------------------------\u001b[0m",
      "\u001b[1;31mNameError\u001b[0m                                 Traceback (most recent call last)",
      "Cell \u001b[1;32mIn[1], line 1\u001b[0m\n\u001b[1;32m----> 1\u001b[0m \u001b[38;5;28mprint\u001b[39m(\u001b[43mx_train\u001b[49m)\n",
      "\u001b[1;31mNameError\u001b[0m: name 'x_train' is not defined"
     ]
    }
   ],
   "source": [
    "print(x_train)"
   ]
  },
  {
   "cell_type": "code",
   "execution_count": null,
   "metadata": {},
   "outputs": [],
   "source": []
  }
 ],
 "metadata": {
  "kernelspec": {
   "display_name": "Python 3",
   "language": "python",
   "name": "python3"
  },
  "language_info": {
   "codemirror_mode": {
    "name": "ipython",
    "version": 3
   },
   "file_extension": ".py",
   "mimetype": "text/x-python",
   "name": "python",
   "nbconvert_exporter": "python",
   "pygments_lexer": "ipython3",
   "version": "3.11.1"
  }
 },
 "nbformat": 4,
 "nbformat_minor": 2
}
